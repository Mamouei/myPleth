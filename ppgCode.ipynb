{
 "cells": [
  {
   "cell_type": "code",
   "execution_count": 52,
   "metadata": {},
   "outputs": [],
   "source": [
    "import os\n",
    "import pandas as pd\n",
    "\n",
    "\n"
   ]
  },
  {
   "cell_type": "code",
   "execution_count": 116,
   "metadata": {},
   "outputs": [
    {
     "name": "stdout",
     "output_type": "stream",
     "text": [
      "Found 1 days of recording\n",
      "Found 4 recordings for device A02362 in day 2020_07_06\n",
      "TEMP.csv\n",
      "info.txt\n",
      "tags.csv\n",
      "HR.csv\n",
      "ACC.csv\n",
      "IBI.csv\n",
      "EDA.csv\n",
      "BVP.csv\n",
      "TEMP.csv\n",
      "info.txt\n",
      "tags.csv\n",
      "HR.csv\n",
      "ACC.csv\n",
      "IBI.csv\n",
      "EDA.csv\n",
      "BVP.csv\n",
      "TEMP.csv\n",
      "info.txt\n",
      "tags.csv\n",
      "HR.csv\n",
      "ACC.csv\n",
      "IBI.csv\n",
      "EDA.csv\n",
      "BVP.csv\n",
      "TEMP.csv\n",
      "info.txt\n",
      "tags.csv\n",
      "HR.csv\n",
      "ACC.csv\n",
      "IBI.csv\n",
      "EDA.csv\n",
      "BVP.csv\n"
     ]
    }
   ],
   "source": [
    "\"\"\"\n",
    "This function helps execute a structed walk within the directory specified by PATH, \n",
    "grab data pertaining to the device DEVICE_NAME\n",
    "and form a pandas dataframe\n",
    "\"\"\"\n",
    "\n",
    "#Key variables \n",
    "PATH=\"/Users/momamouei/Documents/Projects/My_daily_Physio/daily_recordings\"\n",
    "DEVICE_NAME=\"A02362\"\n",
    "\n",
    "#Go to sub-directory and check the number of days\n",
    "days_dirs=[PATH+\"/\"+i for i in filter(lambda x: os.path.isdir(PATH+\"/\"+x),os.listdir(PATH))]\n",
    "print(\"Found {0} days of recording\".format(len(days_dirs)))\n",
    "\n",
    "#Go to each day and see different sessions\n",
    "day_dir=days_dirs[0]\n",
    "recording_sessions=list(filter(lambda x:(os.path.isdir(day_dir+\"/\"+x) and (x[-6:]==DEVICE_NAME)),os.listdir(day_dir)))\n",
    "\n",
    "print(\"Found {0} recordings for device {1} in day {2}\".format(len(recording_sessions),DEVICE_NAME,day_dir[-10:]))\n",
    "\n",
    "recording_session_dirs=[day_dir+\"/\"+recording_session for recording_session in recording_sessions]\n",
    "\n",
    "#Read the data for each session\n",
    "for recording_session_dir in recording_session_dirs:\n",
    "    for file in os.listdir(recording_session_dir):\n",
    "        print(file)  \n",
    "    \n",
    "    \n"
   ]
  },
  {
   "cell_type": "code",
   "execution_count": 113,
   "metadata": {},
   "outputs": [
    {
     "name": "stdout",
     "output_type": "stream",
     "text": [
      "['1594884011_A02362', '.DS_Store', '1594883762_A02362', '1594883520_A02362', 'Report.rtf', '1594883856_A02362']\n"
     ]
    },
    {
     "data": {
      "text/plain": [
       "True"
      ]
     },
     "execution_count": 113,
     "metadata": {},
     "output_type": "execute_result"
    }
   ],
   "source": [
    "x=os.listdir(day_dir)\n",
    "print(x)\n",
    "os.path.isdir(day_dir+\"/\"+x[0])"
   ]
  },
  {
   "cell_type": "code",
   "execution_count": 114,
   "metadata": {},
   "outputs": [
    {
     "name": "stdout",
     "output_type": "stream",
     "text": [
      "['1594884011_A02362', '1594883762_A02362', '1594883520_A02362', '1594883856_A02362']\n"
     ]
    },
    {
     "data": {
      "text/plain": [
       "['/Users/momamouei/Documents/Projects/My_daily_Physio/daily_recordings/2020_07_06/1594884011_A02362',\n",
       " '/Users/momamouei/Documents/Projects/My_daily_Physio/daily_recordings/2020_07_06/1594883762_A02362',\n",
       " '/Users/momamouei/Documents/Projects/My_daily_Physio/daily_recordings/2020_07_06/1594883520_A02362',\n",
       " '/Users/momamouei/Documents/Projects/My_daily_Physio/daily_recordings/2020_07_06/1594883856_A02362']"
      ]
     },
     "execution_count": 114,
     "metadata": {},
     "output_type": "execute_result"
    }
   ],
   "source": [
    "print(list(recording_sessions))\n",
    "recording_session_dirs"
   ]
  },
  {
   "cell_type": "code",
   "execution_count": 115,
   "metadata": {},
   "outputs": [
    {
     "data": {
      "text/plain": [
       "4"
      ]
     },
     "execution_count": 115,
     "metadata": {},
     "output_type": "execute_result"
    }
   ],
   "source": [
    "len(list(recording_sessions))"
   ]
  },
  {
   "cell_type": "code",
   "execution_count": null,
   "metadata": {},
   "outputs": [],
   "source": []
  },
  {
   "cell_type": "code",
   "execution_count": null,
   "metadata": {},
   "outputs": [],
   "source": []
  }
 ],
 "metadata": {
  "kernelspec": {
   "display_name": "Python 3",
   "language": "python",
   "name": "python3"
  },
  "language_info": {
   "codemirror_mode": {
    "name": "ipython",
    "version": 3
   },
   "file_extension": ".py",
   "mimetype": "text/x-python",
   "name": "python",
   "nbconvert_exporter": "python",
   "pygments_lexer": "ipython3",
   "version": "3.7.6"
  }
 },
 "nbformat": 4,
 "nbformat_minor": 4
}
